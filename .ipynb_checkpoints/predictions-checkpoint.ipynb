{
 "cells": [
  {
   "cell_type": "code",
   "execution_count": 2,
   "metadata": {},
   "outputs": [
    {
     "name": "stdout",
     "output_type": "stream",
     "text": [
      "[[0. 0. 0. 0. 1. 0. 0. 0. 0. 0.]]\n",
      "plank\n"
     ]
    }
   ],
   "source": [
    "import numpy as np\n",
    "from keras.preprocessing import image\n",
    "from keras.models import Sequential\n",
    "from keras.models import load_model\n",
    "import h5py\n",
    "\n",
    "classifier = load_model('my_model_multiclass10.h5') #load the model that was created using cnn_multiclass.py\n",
    "\n",
    "test_image = image.load_img('C:/Users/dojha/yogapose/plank.jpg', target_size = (64, 64)) #folder predictions with images that I want to test\n",
    "test_image = image.img_to_array(test_image)\n",
    "test_image = np.expand_dims(test_image, axis = 0)\n",
    "\n",
    "result = classifier.predict(test_image) # returns array\n",
    "\n",
    "if result[0][0] == 1:\n",
    "\tprediction = 'bridge' #predictions in array are in alphabetical order\n",
    "elif result[0][1] == 1:\n",
    "\tprediction = 'childspose'\n",
    "elif result[0][2] == 1:\n",
    "\tprediction = 'downwarddog'\n",
    "elif result[0][3] == 1:\n",
    "\tprediction = 'mountain'\n",
    "elif result[0][4] == 1:\n",
    "\tprediction = 'plank'\n",
    "elif result[0][5] == 1:\n",
    "\tprediction = 'seatedforwardbend'\n",
    "elif result[0][6] == 1:\n",
    "\tprediction = 'tree'\n",
    "elif result[0][7] == 1:\n",
    "\tprediction = 'trianglepose'\n",
    "elif result[0][8] == 1:\n",
    "\tprediction = 'warrior1'\n",
    "elif result[0][9] == 1:\n",
    "\tprediction = 'warrior2'\n",
    "\n",
    "print(result)\n",
    "print(prediction)\n"
   ]
  }
 ],
 "metadata": {
  "kernelspec": {
   "display_name": "Python 3",
   "language": "python",
   "name": "python3"
  },
  "language_info": {
   "codemirror_mode": {
    "name": "ipython",
    "version": 3
   },
   "file_extension": ".py",
   "mimetype": "text/x-python",
   "name": "python",
   "nbconvert_exporter": "python",
   "pygments_lexer": "ipython3",
   "version": "3.6.5"
  }
 },
 "nbformat": 4,
 "nbformat_minor": 2
}
